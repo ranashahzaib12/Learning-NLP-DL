{
 "cells": [
  {
   "cell_type": "code",
   "execution_count": 1,
   "metadata": {},
   "outputs": [],
   "source": [
    "# Defining the PARAGRAPH(Corpus)\n",
    "\n",
    "corpus = \"\"\"\n",
    "Hello welcome,to Rana Shahzaib's IPYNB files.\n",
    "Please DO Follow me to encouerage me! and give a star! to my repo and make changes in this file.\n",
    "\"\"\"\n"
   ]
  },
  {
   "cell_type": "code",
   "execution_count": 2,
   "metadata": {},
   "outputs": [
    {
     "name": "stdout",
     "output_type": "stream",
     "text": [
      "\n",
      "Hello welcome,to Rana Shahzaib's IPYNB files.\n",
      "Please DO Follow me to encouerage me! and give a star! to my repo and make changes in this file.\n",
      "\n"
     ]
    }
   ],
   "source": [
    "print(corpus)"
   ]
  },
  {
   "cell_type": "code",
   "execution_count": 3,
   "metadata": {},
   "outputs": [],
   "source": [
    "# Tokenization \n",
    "# Paragraphs to Sentence\n",
    "\n",
    "from nltk.tokenize import sent_tokenize\n"
   ]
  },
  {
   "cell_type": "code",
   "execution_count": 5,
   "metadata": {},
   "outputs": [],
   "source": [
    "documents = sent_tokenize(corpus)"
   ]
  },
  {
   "cell_type": "code",
   "execution_count": 6,
   "metadata": {},
   "outputs": [
    {
     "data": {
      "text/plain": [
       "[\"\\nHello welcome,to Rana Shahzaib's IPYNB files.\",\n",
       " 'Please DO Follow me to encouerage me!',\n",
       " 'and give a star!',\n",
       " 'to my repo and make changes in this file.']"
      ]
     },
     "execution_count": 6,
     "metadata": {},
     "output_type": "execute_result"
    }
   ],
   "source": [
    "documents"
   ]
  },
  {
   "cell_type": "code",
   "execution_count": 7,
   "metadata": {},
   "outputs": [
    {
     "name": "stdout",
     "output_type": "stream",
     "text": [
      "\n",
      "Hello welcome,to Rana Shahzaib's IPYNB files.\n",
      "Please DO Follow me to encouerage me!\n",
      "and give a star!\n",
      "to my repo and make changes in this file.\n"
     ]
    }
   ],
   "source": [
    "for sentence in documents:\n",
    "    print(sentence)"
   ]
  },
  {
   "cell_type": "code",
   "execution_count": 8,
   "metadata": {},
   "outputs": [],
   "source": [
    "# Tokenization \n",
    "# Pargraph INTO Words \n",
    "# Sentencs INTO Words \n",
    "from nltk.tokenize import word_tokenize \n"
   ]
  },
  {
   "cell_type": "code",
   "execution_count": 14,
   "metadata": {},
   "outputs": [
    {
     "data": {
      "text/plain": [
       "['Hello',\n",
       " 'welcome',\n",
       " ',',\n",
       " 'to',\n",
       " 'Rana',\n",
       " 'Shahzaib',\n",
       " \"'s\",\n",
       " 'IPYNB',\n",
       " 'files',\n",
       " '.',\n",
       " 'Please',\n",
       " 'DO',\n",
       " 'Follow',\n",
       " 'me',\n",
       " 'to',\n",
       " 'encouerage',\n",
       " 'me',\n",
       " '!',\n",
       " 'and',\n",
       " 'give',\n",
       " 'a',\n",
       " 'star',\n",
       " '!',\n",
       " 'to',\n",
       " 'my',\n",
       " 'repo',\n",
       " 'and',\n",
       " 'make',\n",
       " 'changes',\n",
       " 'in',\n",
       " 'this',\n",
       " 'file',\n",
       " '.']"
      ]
     },
     "execution_count": 14,
     "metadata": {},
     "output_type": "execute_result"
    }
   ],
   "source": [
    "\n",
    "# Pargraph INTO Words \n",
    "word_tokenize(corpus)\n"
   ]
  },
  {
   "cell_type": "code",
   "execution_count": 15,
   "metadata": {},
   "outputs": [
    {
     "name": "stdout",
     "output_type": "stream",
     "text": [
      "['Hello', 'welcome', ',', 'to', 'Rana', 'Shahzaib', \"'s\", 'IPYNB', 'files', '.']\n",
      "['Please', 'DO', 'Follow', 'me', 'to', 'encouerage', 'me', '!']\n",
      "['and', 'give', 'a', 'star', '!']\n",
      "['to', 'my', 'repo', 'and', 'make', 'changes', 'in', 'this', 'file', '.']\n"
     ]
    }
   ],
   "source": [
    "# Sentence  INTO Words\n",
    "for sentence in documents:\n",
    "    print(word_tokenize(sentence))"
   ]
  },
  {
   "cell_type": "code",
   "execution_count": null,
   "metadata": {},
   "outputs": [],
   "source": [
    "from nltk.tokenize import wordpunct_tokenize "
   ]
  },
  {
   "cell_type": "code",
   "execution_count": null,
   "metadata": {},
   "outputs": [
    {
     "data": {
      "text/plain": [
       "['Hello',\n",
       " 'welcome',\n",
       " ',',\n",
       " 'to',\n",
       " 'Rana',\n",
       " 'Shahzaib',\n",
       " \"'\",\n",
       " 's',\n",
       " 'IPYNB',\n",
       " 'files',\n",
       " '.',\n",
       " 'Please',\n",
       " 'DO',\n",
       " 'Follow',\n",
       " 'me',\n",
       " 'to',\n",
       " 'encouerage',\n",
       " 'me',\n",
       " '!',\n",
       " 'and',\n",
       " 'give',\n",
       " 'a',\n",
       " 'star',\n",
       " '!',\n",
       " 'to',\n",
       " 'my',\n",
       " 'repo',\n",
       " 'and',\n",
       " 'make',\n",
       " 'changes',\n",
       " 'in',\n",
       " 'this',\n",
       " 'file',\n",
       " '.']"
      ]
     },
     "execution_count": 17,
     "metadata": {},
     "output_type": "execute_result"
    }
   ],
   "source": [
    "wordpunct_tokenize(corpus)  \n",
    "# for Punctuations \n",
    "# Both Got Seprated\n",
    "#  \"'\",\n",
    "#  's',  "
   ]
  },
  {
   "cell_type": "code",
   "execution_count": null,
   "metadata": {},
   "outputs": [],
   "source": [
    "from nltk.tokenize import TreebankWordTokenizer\n",
    "# what TreebankWordTokenizer does is it tokenizes the text into words and also takes care of the punctuation marks.\n",
    "# It is a more advanced tokenizer than the word_tokenize function. "
   ]
  },
  {
   "cell_type": "code",
   "execution_count": 19,
   "metadata": {},
   "outputs": [],
   "source": [
    "tokenizer = TreebankWordTokenizer()"
   ]
  },
  {
   "cell_type": "code",
   "execution_count": 20,
   "metadata": {},
   "outputs": [
    {
     "data": {
      "text/plain": [
       "['Hello',\n",
       " 'welcome',\n",
       " ',',\n",
       " 'to',\n",
       " 'Rana',\n",
       " 'Shahzaib',\n",
       " \"'s\",\n",
       " 'IPYNB',\n",
       " 'files.',\n",
       " 'Please',\n",
       " 'DO',\n",
       " 'Follow',\n",
       " 'me',\n",
       " 'to',\n",
       " 'encouerage',\n",
       " 'me',\n",
       " '!',\n",
       " 'and',\n",
       " 'give',\n",
       " 'a',\n",
       " 'star',\n",
       " '!',\n",
       " 'to',\n",
       " 'my',\n",
       " 'repo',\n",
       " 'and',\n",
       " 'make',\n",
       " 'changes',\n",
       " 'in',\n",
       " 'this',\n",
       " 'file',\n",
       " '.']"
      ]
     },
     "execution_count": 20,
     "metadata": {},
     "output_type": "execute_result"
    }
   ],
   "source": [
    "tokenizer.tokenize(corpus)\n",
    "# 'files.', FOR THE LAST WORD FULL STOP IS SEPRATE WORD "
   ]
  },
  {
   "cell_type": "code",
   "execution_count": null,
   "metadata": {},
   "outputs": [],
   "source": []
  }
 ],
 "metadata": {
  "kernelspec": {
   "display_name": "myenv",
   "language": "python",
   "name": "python3"
  },
  "language_info": {
   "codemirror_mode": {
    "name": "ipython",
    "version": 3
   },
   "file_extension": ".py",
   "mimetype": "text/x-python",
   "name": "python",
   "nbconvert_exporter": "python",
   "pygments_lexer": "ipython3",
   "version": "3.12.5"
  }
 },
 "nbformat": 4,
 "nbformat_minor": 2
}
