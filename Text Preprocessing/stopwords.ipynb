{
 "cells": [
  {
   "cell_type": "markdown",
   "metadata": {},
   "source": [
    "Lemmitization"
   ]
  },
  {
   "cell_type": "code",
   "execution_count": 2,
   "metadata": {},
   "outputs": [],
   "source": [
    "# import nltk\n",
    "# nltk.download('stopwords')"
   ]
  },
  {
   "cell_type": "code",
   "execution_count": null,
   "metadata": {},
   "outputs": [],
   "source": [
    "paragraph = \"\"\"\n",
    "Here’s a 300-word paragraph:\n",
    "\n",
    "---\n",
    "\n",
    "In today's rapidly evolving world, the importance of \n",
    "adaptability cannot be overstated. As technological advancements \n",
    "reshape industries, cultures, and daily lives, the ability\n",
    " to embrace change has become a fundamental skill. Adaptability\n",
    "   is not merely about responding to external! circumstances\n",
    "  but also about fostering an internal mindset that \n",
    "  welcomes growth, innovation, and challenges. For\n",
    "individuals, this means! continuously updating skills, \n",
    "maintaining curiosity, and approaching 3 problems with\n",
    " resilience. In the workplace, adaptability is \n",
    "essential for navigating dynamic markets 3000, meeting shifting \n",
    "consumer demands, and embracing emerging technologies. Organizations that \n",
    "prioritize adaptability through fostering creativity, encouraging lifelong learning, and embracing \n",
    "diverse perspectives are better equipped to remain competitive\n",
    " and innovative. On a societal level, adaptability is key to \n",
    " addressing complex global challenges such as climate change,\n",
    "   economic disparities, and public health crises. It involves \n",
    "   collaboration, an openness to alternative solutions, and the courage \n",
    "   to rethink established norms. While change often induces fear or resistance, \n",
    "   cultivating adaptability can transform obstacles into opportunities. Consider the unprecedented challenges \n",
    "   posed by the COVID-19 pandemic. Across the globe, individuals and institutions had to adapt swiftly—schools \n",
    "   transitioned to online learning, businesses adopted remote work models, and healthcare systems leveraged technology \n",
    "   for telemedicine. These changes, while initially disruptive, highlighted the human capacity for innovation and resilience. \n",
    "   \n",
    "\n",
    "Let me know if you need adjustments or further expansion!\n",
    "\n",
    "\"\"\"\n",
    "\n",
    "\n",
    "#  i,the ,have,why,of ,it ,he,she ,there these types of words are known as Stopwords Not So important for Meaningful work "
   ]
  },
  {
   "cell_type": "code",
   "execution_count": 4,
   "metadata": {},
   "outputs": [],
   "source": [
    "from nltk.stem import PorterStemmer"
   ]
  },
  {
   "cell_type": "code",
   "execution_count": 5,
   "metadata": {},
   "outputs": [],
   "source": [
    "from nltk.corpus import stopwords"
   ]
  },
  {
   "cell_type": "code",
   "execution_count": 8,
   "metadata": {},
   "outputs": [
    {
     "data": {
      "text/plain": [
       "['i',\n",
       " 'me',\n",
       " 'my',\n",
       " 'myself',\n",
       " 'we',\n",
       " 'our',\n",
       " 'ours',\n",
       " 'ourselves',\n",
       " 'you',\n",
       " \"you're\",\n",
       " \"you've\",\n",
       " \"you'll\",\n",
       " \"you'd\",\n",
       " 'your',\n",
       " 'yours',\n",
       " 'yourself',\n",
       " 'yourselves',\n",
       " 'he',\n",
       " 'him',\n",
       " 'his',\n",
       " 'himself',\n",
       " 'she',\n",
       " \"she's\",\n",
       " 'her',\n",
       " 'hers',\n",
       " 'herself',\n",
       " 'it',\n",
       " \"it's\",\n",
       " 'its',\n",
       " 'itself',\n",
       " 'they',\n",
       " 'them',\n",
       " 'their',\n",
       " 'theirs',\n",
       " 'themselves',\n",
       " 'what',\n",
       " 'which',\n",
       " 'who',\n",
       " 'whom',\n",
       " 'this',\n",
       " 'that',\n",
       " \"that'll\",\n",
       " 'these',\n",
       " 'those',\n",
       " 'am',\n",
       " 'is',\n",
       " 'are',\n",
       " 'was',\n",
       " 'were',\n",
       " 'be',\n",
       " 'been',\n",
       " 'being',\n",
       " 'have',\n",
       " 'has',\n",
       " 'had',\n",
       " 'having',\n",
       " 'do',\n",
       " 'does',\n",
       " 'did',\n",
       " 'doing',\n",
       " 'a',\n",
       " 'an',\n",
       " 'the',\n",
       " 'and',\n",
       " 'but',\n",
       " 'if',\n",
       " 'or',\n",
       " 'because',\n",
       " 'as',\n",
       " 'until',\n",
       " 'while',\n",
       " 'of',\n",
       " 'at',\n",
       " 'by',\n",
       " 'for',\n",
       " 'with',\n",
       " 'about',\n",
       " 'against',\n",
       " 'between',\n",
       " 'into',\n",
       " 'through',\n",
       " 'during',\n",
       " 'before',\n",
       " 'after',\n",
       " 'above',\n",
       " 'below',\n",
       " 'to',\n",
       " 'from',\n",
       " 'up',\n",
       " 'down',\n",
       " 'in',\n",
       " 'out',\n",
       " 'on',\n",
       " 'off',\n",
       " 'over',\n",
       " 'under',\n",
       " 'again',\n",
       " 'further',\n",
       " 'then',\n",
       " 'once',\n",
       " 'here',\n",
       " 'there',\n",
       " 'when',\n",
       " 'where',\n",
       " 'why',\n",
       " 'how',\n",
       " 'all',\n",
       " 'any',\n",
       " 'both',\n",
       " 'each',\n",
       " 'few',\n",
       " 'more',\n",
       " 'most',\n",
       " 'other',\n",
       " 'some',\n",
       " 'such',\n",
       " 'no',\n",
       " 'nor',\n",
       " 'not',\n",
       " 'only',\n",
       " 'own',\n",
       " 'same',\n",
       " 'so',\n",
       " 'than',\n",
       " 'too',\n",
       " 'very',\n",
       " 's',\n",
       " 't',\n",
       " 'can',\n",
       " 'will',\n",
       " 'just',\n",
       " 'don',\n",
       " \"don't\",\n",
       " 'should',\n",
       " \"should've\",\n",
       " 'now',\n",
       " 'd',\n",
       " 'll',\n",
       " 'm',\n",
       " 'o',\n",
       " 're',\n",
       " 've',\n",
       " 'y',\n",
       " 'ain',\n",
       " 'aren',\n",
       " \"aren't\",\n",
       " 'couldn',\n",
       " \"couldn't\",\n",
       " 'didn',\n",
       " \"didn't\",\n",
       " 'doesn',\n",
       " \"doesn't\",\n",
       " 'hadn',\n",
       " \"hadn't\",\n",
       " 'hasn',\n",
       " \"hasn't\",\n",
       " 'haven',\n",
       " \"haven't\",\n",
       " 'isn',\n",
       " \"isn't\",\n",
       " 'ma',\n",
       " 'mightn',\n",
       " \"mightn't\",\n",
       " 'mustn',\n",
       " \"mustn't\",\n",
       " 'needn',\n",
       " \"needn't\",\n",
       " 'shan',\n",
       " \"shan't\",\n",
       " 'shouldn',\n",
       " \"shouldn't\",\n",
       " 'wasn',\n",
       " \"wasn't\",\n",
       " 'weren',\n",
       " \"weren't\",\n",
       " 'won',\n",
       " \"won't\",\n",
       " 'wouldn',\n",
       " \"wouldn't\"]"
      ]
     },
     "execution_count": 8,
     "metadata": {},
     "output_type": "execute_result"
    }
   ],
   "source": [
    "stopwords.words('english') #Some Stopwords in english "
   ]
  },
  {
   "cell_type": "code",
   "execution_count": null,
   "metadata": {},
   "outputs": [],
   "source": [
    "stemmer = PorterStemmer()\n",
    "# what is meeant by tokenize the text\n",
    "# Tokenization is the process of breaking down a text into smaller units, such as words or sentences."
   ]
  },
  {
   "cell_type": "code",
   "execution_count": 31,
   "metadata": {},
   "outputs": [],
   "source": [
    "sentence = nltk.sent_tokenize(paragraph) # Tokenization"
   ]
  },
  {
   "cell_type": "code",
   "execution_count": null,
   "metadata": {},
   "outputs": [],
   "source": [
    "\n",
    "# Step by step Approach first tokenixation than to words tokenization then removing stopwords and at the ENd applying Stemming\n",
    "for i in range(len(sentence)):\n",
    "    words = nltk.word_tokenize(sentence[i]) \n",
    "    [stemmer.stem(word) for word in words if word not in set(stopwords.words('english'))]\n",
    "    sentence[i] = ' '.join(words) # Converting all the woeds into sentences "
   ]
  },
  {
   "cell_type": "code",
   "execution_count": 14,
   "metadata": {},
   "outputs": [
    {
     "name": "stdout",
     "output_type": "stream",
     "text": [
      "[\"Here ’ s a 300-word paragraph : -- - In today 's rapidly evolving world , the importance of adaptability can not be overstated .\", 'As technological advancements reshape industries , cultures , and daily lives , the ability to embrace change has become a fundamental skill .', 'Adaptability is not merely about responding to external !', 'circumstances but also about fostering an internal mindset that welcomes growth , innovation , and challenges .', 'For individuals , this means !', 'continuously updating skills , maintaining curiosity , and approaching 3 problems with resilience .', 'In the workplace , adaptability is essential for navigating dynamic markets 3000 , meeting shifting consumer demands , and embracing emerging technologies .', 'Organizations that prioritize adaptability through fostering creativity , encouraging lifelong learning , and embracing diverse perspectives are better equipped to remain competitive and innovative .', 'On a societal level , adaptability is key to addressing complex global challenges such as climate change , economic disparities , and public health crises .', 'It involves collaboration , an openness to alternative solutions , and the courage to rethink established norms .', 'While change often induces fear or resistance , cultivating adaptability can transform obstacles into opportunities .', 'Consider the unprecedented challenges posed by the COVID-19 pandemic .', 'Across the globe , individuals and institutions had to adapt swiftly—schools transitioned to online learning , businesses adopted remote work models , and healthcare systems leveraged technology for telemedicine .', 'These changes , while initially disruptive , highlighted the human capacity for innovation and resilience .', 'Moreover , adaptability extends beyond the professional sphere ; it is a vital component of personal growth and emotional intelligence .', \"Relationships thrive when partners adapt to each other ’ s evolving needs , and personal fulfillment is often found through embracing life 's unpredictability .\", 'Ultimately , adaptability is not a destination but a journey , requiring continual effort and reflection .', 'By fostering a mindset that values flexibility , creativity , and a willingness to learn , individuals and societies can navigate uncertainty with confidence , turning challenges into stepping stones for a brighter future .', '-- - Let me know if you need adjustments or further expansion !']\n"
     ]
    }
   ],
   "source": [
    "print(sentence)  # Stopwords removed \n",
    "\n",
    "# we can also use Lemmitizer and Snowballstemmer"
   ]
  },
  {
   "cell_type": "code",
   "execution_count": 19,
   "metadata": {},
   "outputs": [],
   "source": [
    "from nltk.stem import WordNetLemmatizer \n",
    "\n",
    "lemt = WordNetLemmatizer()"
   ]
  },
  {
   "cell_type": "code",
   "execution_count": 34,
   "metadata": {},
   "outputs": [],
   "source": [
    "\n",
    "# Step by step Approach first tokenixation than to words tokenization then removing stopwords and at the ENd applying Stemming\n",
    "for i in range(len(sentence)):\n",
    "    words = nltk.word_tokenize(sentence[i]) \n",
    "    words = [lemt.lemmatize(word.lower(),pos='v')for word in words if word not in set(stopwords.words('english'))]\n",
    "    sentence[i] = ' '.join(words) # Converting all the woeds into sentences "
   ]
  },
  {
   "cell_type": "code",
   "execution_count": 35,
   "metadata": {},
   "outputs": [
    {
     "name": "stdout",
     "output_type": "stream",
     "text": [
      "[\"here ’ 300-word paragraph : -- - in today 's rapidly evolve world , importance adaptability overstate .\", 'as technological advancements reshape industries , culture , daily live , ability embrace change become fundamental skill .', 'adaptability merely respond external !', 'circumstances also foster internal mindset welcome growth , innovation , challenge .', 'for individuals , mean !', 'continuously update skills , maintain curiosity , approach 3 problems resilience .', 'in workplace , adaptability essential navigate dynamic market 3000 , meet shift consumer demand , embrace emerge technologies .', 'organizations prioritize adaptability foster creativity , encourage lifelong learn , embrace diverse perspectives better equip remain competitive innovative .', 'on societal level , adaptability key address complex global challenge climate change , economic disparities , public health crises .', 'it involve collaboration , openness alternative solutions , courage rethink establish norms .', 'while change often induce fear resistance , cultivate adaptability transform obstacles opportunities .', 'consider unprecedented challenge pose covid-19 pandemic .', 'across globe , individuals institutions adapt swiftly—schools transition online learn , businesses adopt remote work model , healthcare systems leverage technology telemedicine .', 'these change , initially disruptive , highlight human capacity innovation resilience .', 'moreover , adaptability extend beyond professional sphere ; vital component personal growth emotional intelligence .', \"relationships thrive partner adapt ’ evolve need , personal fulfillment often find embrace life 's unpredictability .\", 'ultimately , adaptability destination journey , require continual effort reflection .', 'by foster mindset value flexibility , creativity , willingness learn , individuals societies navigate uncertainty confidence , turn challenge step stone brighter future .', '-- - let know need adjustments expansion !']\n"
     ]
    }
   ],
   "source": [
    "print(sentence)"
   ]
  },
  {
   "cell_type": "code",
   "execution_count": null,
   "metadata": {},
   "outputs": [],
   "source": []
  },
  {
   "cell_type": "code",
   "execution_count": null,
   "metadata": {},
   "outputs": [],
   "source": []
  },
  {
   "cell_type": "code",
   "execution_count": null,
   "metadata": {},
   "outputs": [],
   "source": []
  }
 ],
 "metadata": {
  "kernelspec": {
   "display_name": "myenv",
   "language": "python",
   "name": "python3"
  },
  "language_info": {
   "codemirror_mode": {
    "name": "ipython",
    "version": 3
   },
   "file_extension": ".py",
   "mimetype": "text/x-python",
   "name": "python",
   "nbconvert_exporter": "python",
   "pygments_lexer": "ipython3",
   "version": "3.12.5"
  }
 },
 "nbformat": 4,
 "nbformat_minor": 2
}
