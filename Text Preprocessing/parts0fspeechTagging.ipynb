{
 "cells": [
  {
   "cell_type": "markdown",
   "metadata": {},
   "source": [
    "**Part-of-Speech (POS) tags** used in natural language processing:\n",
    "\n",
    "| **POS Tag** | **Description**                          | **Example**                  |\n",
    "|-------------|------------------------------------------|------------------------------|\n",
    "| **CC**      | Coordinating conjunction                | and, but, or                |\n",
    "| **CD**      | Cardinal number                         | one, two, 100               |\n",
    "| **DT**      | Determiner                              | the, a, an                  |\n",
    "| **EX**      | Existential \"there\"                     | there is, there are         |\n",
    "| **FW**      | Foreign word                            | vis-à-vis, à la carte       |\n",
    "| **IN**      | Preposition or subordinating conjunction| in, on, at, since, because  |\n",
    "| **JJ**      | Adjective                               | big, yellow, quick          |\n",
    "| **JJR**     | Adjective, comparative                  | bigger, better, faster      |\n",
    "| **JJS**     | Adjective, superlative                  | biggest, best, fastest      |\n",
    "| **LS**      | List item marker                        | 1., 2., A., B.              |\n",
    "| **MD**      | Modal                                   | can, could, will, would     |\n",
    "| **NN**      | Noun, singular or mass                 | cat, dog, freedom           |\n",
    "| **NNS**     | Noun, plural                            | cats, dogs                  |\n",
    "| **NNP**     | Proper noun, singular                   | John, London, Apple         |\n",
    "| **NNPS**    | Proper noun, plural                     | Americans, Apples           |\n",
    "| **PDT**     | Predeterminer                           | all, both, half             |\n",
    "| **POS**     | Possessive ending                      | 's, ’s                      |\n",
    "| **PRP**     | Personal pronoun                       | I, you, he, she, it         |\n",
    "| **PRP$**    | Possessive pronoun                     | my, your, his, her          |\n",
    "| **RB**      | Adverb                                 | quickly, silently, never    |\n",
    "| **RBR**     | Adverb, comparative                    | more quickly, faster        |\n",
    "| **RBS**     | Adverb, superlative                    | most quickly, fastest       |\n",
    "| **RP**      | Particle                               | up, off, down               |\n",
    "| **TO**      | \"to\"                                   | to go, to eat               |\n",
    "| **UH**      | Interjection                           | oh, wow, ouch               |\n",
    "| **VB**      | Verb, base form                        | go, eat, run                |\n",
    "| **VBD**     | Verb, past tense                       | went, ate, ran              |\n",
    "| **VBG**     | Verb, gerund/present participle        | going, eating, running      |\n",
    "| **VBN**     | Verb, past participle                  | gone, eaten, run            |\n",
    "| **VBP**     | Verb, non-3rd person singular present  | go, eat, run                |\n",
    "| **VBZ**     | Verb, 3rd person singular present      | goes, eats, runs            |\n",
    "| **WDT**     | Wh-determiner                          | which, that                 |\n",
    "| **WP**      | Wh-pronoun                             | who, what                   |\n",
    "| **WP$**     | Possessive wh-pronoun                  | whose                       |\n",
    "| **WRB**     | Wh-adverb                              | where, when, why            |\n",
    "| **.**       | Period, question mark, exclamation mark| ., ?, !                     |\n",
    "| **,**       | Comma                                  | ,                           |\n"
   ]
  },
  {
   "cell_type": "code",
   "execution_count": 1,
   "metadata": {},
   "outputs": [],
   "source": [
    "paragraph = \"\"\"\n",
    "**Speech on Quaid-e-Azam Muhammad Ali Jinnah**  \n",
    "\n",
    "Ladies and Gentlemen,  \n",
    "\n",
    "Today, we gather to pay tribute to one of the greatest leaders of the 20th century, Quaid-e-Azam Muhammad Ali Jinnah. A visionary, a statesman, and the father of our nation,\n",
    " Quaid-e-Azam dedicated his life to securing the rights of Muslims in the subcontinent and giving them a land where they could live freely,\n",
    "with dignity and justice.  \n",
    "Born on December 25, 1876, in Karachi, Jinnah was an extraordinary individual with unwavering determination. He believed in constitutional\n",
    " means to achieve his goals and worked tirelessly to unite Muslims under the banner of the All-India Muslim League. His leadership transformed\n",
    "a scattered minority into a cohesive political force, ultimately leading to the creation of Pakistan on August 14, 1947.  \n",
    "Quaid-e-Azam envisioned Pakistan as a country founded on principles of democracy, equality, and social justice. His famous words, “Faith, \n",
    "Unity, and Discipline,” continue to inspire us to build a prosperous nation. He believed in tolerance, emphasizing that people of all religions\n",
    " would have the freedom to practice their faith in Pakistan.  \n",
    "Jinnah's health deteriorated during the critical years of our independence struggle, but his commitment never wavered. He worked tirelessly until \n",
    "the very end, sacrificing his life for the dream of Pakistan.  \n",
    "\n",
    "As we honor Quaid-e-Azam today, let us remember his ideals and work towards fulfilling his vision of a strong, united, and progressive Pakistan. Let us imbibe his qualities of integrity, hard work, and determination.  \n",
    "\n",
    "Pakistan was not just a dream for Jinnah; it was a promise to millions. It is our responsibility to uphold that promise and strive for the Pakistan he envisioned.  \n",
    "\n",
    "Thank you.  \n",
    "\"\"\""
   ]
  },
  {
   "cell_type": "code",
   "execution_count": 2,
   "metadata": {},
   "outputs": [],
   "source": [
    "from nltk.stem import WordNetLemmatizer \n",
    "from nltk.stem import PorterStemmer\n",
    "from nltk.corpus import stopwords \n",
    "\n",
    "stemmer = PorterStemmer()\n"
   ]
  },
  {
   "cell_type": "code",
   "execution_count": 6,
   "metadata": {},
   "outputs": [],
   "source": [
    "import nltk \n",
    "sentence = nltk.sent_tokenize(paragraph)"
   ]
  },
  {
   "cell_type": "code",
   "execution_count": null,
   "metadata": {},
   "outputs": [
    {
     "name": "stderr",
     "output_type": "stream",
     "text": [
      "[nltk_data] Downloading package averaged_perceptron_tagger_eng to\n",
      "[nltk_data]     C:\\Users\\Track Computers\\AppData\\Roaming\\nltk_data...\n",
      "[nltk_data]   Unzipping taggers\\averaged_perceptron_tagger_eng.zip.\n"
     ]
    },
    {
     "data": {
      "text/plain": [
       "True"
      ]
     },
     "execution_count": 11,
     "metadata": {},
     "output_type": "execute_result"
    }
   ],
   "source": [
    "\n",
    "import nltk\n",
    "nltk.download('averaged_perceptron_tagger_eng')\n",
    "# what is averaged_perceptron_tagger_eng does?\n",
    "# it is a part of nltk library which is used to tag the words in the sentence with their respective parts of speech."
   ]
  },
  {
   "cell_type": "code",
   "execution_count": null,
   "metadata": {},
   "outputs": [
    {
     "name": "stdout",
     "output_type": "stream",
     "text": [
      "[('*', 'JJ'), ('*', 'NNP'), ('Speech', 'NNP'), ('Quaid-e-Azam', 'NNP'), ('Muhammad', 'NNP'), ('Ali', 'NNP'), ('Jinnah', 'NNP'), ('*', 'NNP'), ('*', 'NNP'), ('Ladies', 'NNP'), ('Gentlemen', 'NNP'), (',', ','), ('Today', 'NNP'), (',', ','), ('gather', 'RB'), ('pay', 'VB'), ('tribute', 'NN'), ('one', 'CD'), ('greatest', 'JJS'), ('leaders', 'NNS'), ('20th', 'JJ'), ('century', 'NN'), (',', ','), ('Quaid-e-Azam', 'NNP'), ('Muhammad', 'NNP'), ('Ali', 'NNP'), ('Jinnah', 'NNP'), ('.', '.')]\n",
      "[('A', 'DT'), ('visionary', 'JJ'), (',', ','), ('statesman', 'NN'), (',', ','), ('father', 'JJR'), ('nation', 'NN'), (',', ','), ('Quaid-e-Azam', 'NNP'), ('dedicated', 'VBD'), ('life', 'NN'), ('securing', 'VBG'), ('rights', 'NNS'), ('Muslims', 'NNP'), ('subcontinent', 'NN'), ('giving', 'VBG'), ('land', 'NN'), ('could', 'MD'), ('live', 'VB'), ('freely', 'RB'), (',', ','), ('dignity', 'NN'), ('justice', 'NN'), ('.', '.')]\n",
      "[('Born', 'NNP'), ('December', 'NNP'), ('25', 'CD'), (',', ','), ('1876', 'CD'), (',', ','), ('Karachi', 'NNP'), (',', ','), ('Jinnah', 'NNP'), ('extraordinary', 'JJ'), ('individual', 'JJ'), ('unwavering', 'JJ'), ('determination', 'NN'), ('.', '.')]\n",
      "[('He', 'PRP'), ('believed', 'VBD'), ('constitutional', 'JJ'), ('means', 'NNS'), ('achieve', 'VBP'), ('goals', 'NNS'), ('worked', 'VBD'), ('tirelessly', 'RB'), ('unite', 'JJ'), ('Muslims', 'NNP'), ('banner', 'NN'), ('All-India', 'NNP'), ('Muslim', 'NNP'), ('League', 'NNP'), ('.', '.')]\n",
      "[('His', 'PRP$'), ('leadership', 'NN'), ('transformed', 'VBD'), ('scattered', 'JJ'), ('minority', 'NN'), ('cohesive', 'JJ'), ('political', 'JJ'), ('force', 'NN'), (',', ','), ('ultimately', 'RB'), ('leading', 'VBG'), ('creation', 'NN'), ('Pakistan', 'NNP'), ('August', 'NNP'), ('14', 'CD'), (',', ','), ('1947', 'CD'), ('.', '.')]\n",
      "[('Quaid-e-Azam', 'JJ'), ('envisioned', 'VBD'), ('Pakistan', 'NNP'), ('country', 'NN'), ('founded', 'VBD'), ('principles', 'NNS'), ('democracy', 'NN'), (',', ','), ('equality', 'NN'), (',', ','), ('social', 'JJ'), ('justice', 'NN'), ('.', '.')]\n",
      "[('His', 'PRP$'), ('famous', 'JJ'), ('words', 'NNS'), (',', ','), ('“', 'NNP'), ('Faith', 'NNP'), (',', ','), ('Unity', 'NNP'), (',', ','), ('Discipline', 'NNP'), (',', ','), ('”', 'NNP'), ('continue', 'VBP'), ('inspire', 'VB'), ('us', 'PRP'), ('build', 'VBP'), ('prosperous', 'JJ'), ('nation', 'NN'), ('.', '.')]\n",
      "[('He', 'PRP'), ('believed', 'VBD'), ('tolerance', 'NN'), (',', ','), ('emphasizing', 'VBG'), ('people', 'NNS'), ('religions', 'NNS'), ('would', 'MD'), ('freedom', 'VB'), ('practice', 'NN'), ('faith', 'NN'), ('Pakistan', 'NNP'), ('.', '.')]\n",
      "[('Jinnah', 'NNP'), (\"'s\", 'POS'), ('health', 'NN'), ('deteriorated', 'VBD'), ('critical', 'JJ'), ('years', 'NNS'), ('independence', 'NN'), ('struggle', 'NN'), (',', ','), ('commitment', 'NN'), ('never', 'RB'), ('wavered', 'VBD'), ('.', '.')]\n",
      "[('He', 'PRP'), ('worked', 'VBD'), ('tirelessly', 'RB'), ('end', 'JJ'), (',', ','), ('sacrificing', 'VBG'), ('life', 'NN'), ('dream', 'NN'), ('Pakistan', 'NNP'), ('.', '.')]\n",
      "[('As', 'IN'), ('honor', 'JJ'), ('Quaid-e-Azam', 'NNP'), ('today', 'NN'), (',', ','), ('let', 'VB'), ('us', 'PRP'), ('remember', 'VB'), ('ideals', 'NNS'), ('work', 'VB'), ('towards', 'NNS'), ('fulfilling', 'VBG'), ('vision', 'NN'), ('strong', 'JJ'), (',', ','), ('united', 'JJ'), (',', ','), ('progressive', 'JJ'), ('Pakistan', 'NNP'), ('.', '.')]\n",
      "[('Let', 'VB'), ('us', 'PRP'), ('imbibe', 'VB'), ('qualities', 'NNS'), ('integrity', 'NN'), (',', ','), ('hard', 'JJ'), ('work', 'NN'), (',', ','), ('determination', 'NN'), ('.', '.')]\n",
      "[('Pakistan', 'NNP'), ('dream', 'NN'), ('Jinnah', 'NNP'), (';', ':'), ('promise', 'NN'), ('millions', 'NNS'), ('.', '.')]\n",
      "[('It', 'PRP'), ('responsibility', 'NN'), ('uphold', 'JJ'), ('promise', 'NN'), ('strive', 'JJ'), ('Pakistan', 'NNP'), ('envisioned', 'VBD'), ('.', '.')]\n",
      "[('Thank', 'NNP'), ('.', '.')]\n"
     ]
    }
   ],
   "source": [
    "\n",
    "for i in range(len(sentence)):\n",
    "    words = nltk.word_tokenize(sentence[i]) \n",
    "    words = [word for word in words if word not in set(stopwords.words('english'))]\n",
    "    pos_tag = nltk.pos_tag(words)\n",
    "    print(pos_tag)  \n"
   ]
  },
  {
   "cell_type": "code",
   "execution_count": 15,
   "metadata": {},
   "outputs": [
    {
     "name": "stdout",
     "output_type": "stream",
     "text": [
      "[('Taj', 'NNP'), ('Mahal', 'NNP'), ('is', 'VBZ'), ('a', 'DT'), ('beautiful', 'JJ'), ('building', 'NN')]\n"
     ]
    }
   ],
   "source": [
    "print(nltk.pos_tag(\"Taj Mahal is a beautiful building\".split()))"
   ]
  },
  {
   "cell_type": "code",
   "execution_count": null,
   "metadata": {},
   "outputs": [],
   "source": []
  }
 ],
 "metadata": {
  "kernelspec": {
   "display_name": "myenv",
   "language": "python",
   "name": "python3"
  },
  "language_info": {
   "codemirror_mode": {
    "name": "ipython",
    "version": 3
   },
   "file_extension": ".py",
   "mimetype": "text/x-python",
   "name": "python",
   "nbconvert_exporter": "python",
   "pygments_lexer": "ipython3",
   "version": "3.12.5"
  }
 },
 "nbformat": 4,
 "nbformat_minor": 2
}
